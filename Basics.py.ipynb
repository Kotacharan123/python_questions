{
 "cells": [
  {
   "cell_type": "code",
   "execution_count": null,
   "id": "2084a1e8",
   "metadata": {},
   "outputs": [],
   "source": [
    "#Write a code in Python that prints whether the customer can buy the a mobile Phone or not based on his budget.\n",
    "• Input the budget.\n",
    "• Mobile price is 30000"
   ]
  },
  {
   "cell_type": "code",
   "execution_count": 1,
   "id": "1534f8ce",
   "metadata": {},
   "outputs": [
    {
     "name": "stdout",
     "output_type": "stream",
     "text": [
      "Enter your budget: 20000\n",
      "You cannot buy the mobile phone.\n"
     ]
    }
   ],
   "source": [
    "budget = int(input(\"Enter your budget: \"))\n",
    "\n",
    "if budget >= 30000:\n",
    "    print(\"You can buy the mobile phone.\")\n",
    "else:\n",
    "    print(\"You cannot buy the mobile phone.\")"
   ]
  },
  {
   "cell_type": "code",
   "execution_count": null,
   "id": "ad1018d7",
   "metadata": {},
   "outputs": [],
   "source": [
    "#Suppose the price of the 32 GB, 64 GB, 128 GB and 256GB Phones are 15000, 20000, 30000, 40000 respectively. Write a \n",
    "conditional statement to print the price based on internal storage of the phone. If the entered storage is not available,\n",
    "print NA"
   ]
  },
  {
   "cell_type": "code",
   "execution_count": 2,
   "id": "56141656",
   "metadata": {},
   "outputs": [
    {
     "name": "stdout",
     "output_type": "stream",
     "text": [
      "Enter the storage capacity (32, 64, 128, 256 GB): 32\n",
      "15000\n"
     ]
    }
   ],
   "source": [
    "storage = int(input(\"Enter the storage capacity (32, 64, 128, 256 GB): \"))\n",
    "\n",
    "if storage == 32:\n",
    "    print(15000)\n",
    "elif storage == 64:\n",
    "    print(20000)\n",
    "elif storage == 128:\n",
    "    print(30000)\n",
    "elif storage == 256:\n",
    "    print(40000)\n",
    "else:\n",
    "    print(\"NA\")\n"
   ]
  },
  {
   "cell_type": "code",
   "execution_count": null,
   "id": "8ce3c11d",
   "metadata": {},
   "outputs": [],
   "source": [
    "#Write a program for a candidate's selection prodedure for an examination with below conditions are given:\n",
    "• If the candidate score is above 80 in First Round, he/she is eligible to appear in Second Round else not.\n",
    "• If the candidate score is above 70 in Second Round, he/she is eligible to appear in Third Round else not.\n",
    "• If the candidate score is above 60 in Third Round, he/she is SELECTED else REJECTED.                                     "
   ]
  },
  {
   "cell_type": "code",
   "execution_count": 8,
   "id": "36465e17",
   "metadata": {},
   "outputs": [
    {
     "name": "stdout",
     "output_type": "stream",
     "text": [
      "Enter First Round score: 90\n",
      "Enter Second Round score: 72\n",
      "Enter Third Round score: 65\n",
      "SELECTED\n"
     ]
    }
   ],
   "source": [
    "first_round = int(input(\"Enter First Round score: \"))\n",
    "if first_round > 80:\n",
    "    second_round = int(input(\"Enter Second Round score: \"))\n",
    "    if second_round > 70:\n",
    "        third_round = int(input(\"Enter Third Round score: \"))\n",
    "        if third_round > 60:\n",
    "            print(\"SELECTED\")\n",
    "        else:\n",
    "            print(\"REJECTED\")\n",
    "    else:\n",
    "        print(\"Not eligible for Third Round\")\n",
    "else:\n",
    "    print(\"Not eligible for Second Round\")"
   ]
  },
  {
   "cell_type": "code",
   "execution_count": null,
   "id": "8f7a8c60",
   "metadata": {},
   "outputs": [],
   "source": [
    "#Print the Group of student based on given criteria:\n",
    "• If marks are more than or equal to 80 - Group1\n",
    "• If marks are more than or equal to 60 & less 80 - Group2\n",
    "• If marks are more than or equal to 40 & less 60 - Group3"
   ]
  },
  {
   "cell_type": "code",
   "execution_count": 7,
   "id": "453d2d25",
   "metadata": {},
   "outputs": [
    {
     "name": "stdout",
     "output_type": "stream",
     "text": [
      "Enter marks: 65\n",
      "Group2\n"
     ]
    }
   ],
   "source": [
    "marks = int(input(\"Enter marks: \"))\n",
    "if marks >= 80:\n",
    "    print(\"Group1\")\n",
    "elif 60 <= marks < 80:\n",
    "    print(\"Group2\")\n",
    "elif 40 <= marks < 60:\n",
    "    print(\"Group3\")\n",
    "else:\n",
    "    print(\"Not in any Group\")"
   ]
  },
  {
   "cell_type": "code",
   "execution_count": null,
   "id": "6bbb1cbc",
   "metadata": {},
   "outputs": [],
   "source": [
    "#Nested Login System:\n",
    "• Ask for username and Password of a user\n",
    "• If username is 'admin' ask for password\n",
    "• If username is incorrect print \"incorrect username\"\n",
    "• If password is incorrect print \"incorrect password\"\n",
    "• If password is 12345 print \"login successful\""
   ]
  },
  {
   "cell_type": "code",
   "execution_count": 6,
   "id": "6d3748c4",
   "metadata": {},
   "outputs": [
    {
     "name": "stdout",
     "output_type": "stream",
     "text": [
      "Enter username: admin\n",
      "Enter password: 12345\n",
      "login successful\n"
     ]
    }
   ],
   "source": [
    "username = input(\"Enter username: \")\n",
    "if username == \"admin\":\n",
    "    password = input(\"Enter password: \")\n",
    "    if password == \"12345\":\n",
    "        print(\"login successful\")\n",
    "    else:\n",
    "        print(\"incorrect password\")\n",
    "else:\n",
    "    print(\"incorrect username\")\n"
   ]
  },
  {
   "cell_type": "code",
   "execution_count": null,
   "id": "7bbe8910",
   "metadata": {},
   "outputs": [],
   "source": []
  }
 ],
 "metadata": {
  "kernelspec": {
   "display_name": "Python 3 (ipykernel)",
   "language": "python",
   "name": "python3"
  },
  "language_info": {
   "codemirror_mode": {
    "name": "ipython",
    "version": 3
   },
   "file_extension": ".py",
   "mimetype": "text/x-python",
   "name": "python",
   "nbconvert_exporter": "python",
   "pygments_lexer": "ipython3",
   "version": "3.11.5"
  }
 },
 "nbformat": 4,
 "nbformat_minor": 5
}
